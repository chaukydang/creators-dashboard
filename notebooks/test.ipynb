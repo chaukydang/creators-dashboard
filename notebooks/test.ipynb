{
 "cells": [
  {
   "cell_type": "code",
   "execution_count": 3,
   "id": "2e6c8f86",
   "metadata": {},
   "outputs": [
    {
     "name": "stdout",
     "output_type": "stream",
     "text": [
      "title                          0.002\n",
      "country                        0.000\n",
      "shares_avg                     0.000\n",
      "share_view_ratio               0.000\n",
      "comment_view_ratio             0.000\n",
      "like_view_ratio                0.000\n",
      "kol_score                      0.000\n",
      "engagement_per_1k_followers    0.000\n",
      "engagement_per_view            0.000\n",
      "comments_avg                   0.000\n",
      "dtype: float64\n",
      "       engagement_per_view  engagement_per_1k_followers    kol_score\n",
      "count          1000.000000                  1000.000000  1000.000000\n",
      "mean              0.149682                  1076.469859     0.500500\n",
      "std               0.293038                  7549.824127     0.229096\n",
      "min               0.003701                     3.103571     0.011600\n",
      "25%               0.101492                    41.310840     0.327950\n",
      "50%               0.133381                    92.950617     0.495600\n",
      "75%               0.170738                   256.087500     0.663050\n",
      "max               9.181445                134768.000000     0.998600\n",
      "follower_tier\n",
      "Macro (1M-10M)      602\n",
      "Mega (10M+)         204\n",
      "Mid (100k-1M)       167\n",
      "Micro (10k-100k)     18\n",
      "Nano (<10k)           9\n",
      "Name: count, dtype: int64\n"
     ]
    }
   ],
   "source": [
    "import pandas as pd\n",
    "\n",
    "df = pd.read_csv(\"../out/kol_clean.csv\")\n",
    "\n",
    "# sanity checks\n",
    "assert {\"followers\",\"views_avg\",\"likes_avg\",\"comments_avg\",\"shares_avg\"}.issubset(df.columns)\n",
    "print(df.isna().mean().sort_values(ascending=False).head(10))      # tỉ lệ thiếu\n",
    "print(df[[\"engagement_per_view\",\"engagement_per_1k_followers\",\"kol_score\"]].describe())\n",
    "print(df[\"follower_tier\"].value_counts(dropna=False))\n"
   ]
  },
  {
   "cell_type": "code",
   "execution_count": null,
   "id": "6d4d1d8b",
   "metadata": {},
   "outputs": [],
   "source": []
  }
 ],
 "metadata": {
  "kernelspec": {
   "display_name": "Python 3",
   "language": "python",
   "name": "python3"
  },
  "language_info": {
   "codemirror_mode": {
    "name": "ipython",
    "version": 3
   },
   "file_extension": ".py",
   "mimetype": "text/x-python",
   "name": "python",
   "nbconvert_exporter": "python",
   "pygments_lexer": "ipython3",
   "version": "3.10.11"
  }
 },
 "nbformat": 4,
 "nbformat_minor": 5
}
